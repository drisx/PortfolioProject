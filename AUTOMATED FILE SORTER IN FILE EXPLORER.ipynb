{
 "cells": [
  {
   "cell_type": "markdown",
   "id": "7d13bc02",
   "metadata": {},
   "source": [
    "# AUTOMATED FILE SORTER IN FILE EXPLORER\n"
   ]
  },
  {
   "cell_type": "code",
   "execution_count": 63,
   "id": "23f5ac92",
   "metadata": {},
   "outputs": [],
   "source": [
    "import os\n",
    "import shutil\n",
    "\n",
    "# Define the base path where files are stored and where folders will be created\n",
    "path = r\"C:/Users/idris/Desktop/file store/\"\n",
    "\n",
    "# Define the names of folders to be created for organization\n",
    "folder_names = ['images file', 'text file', 'csv file', 'pdf file']\n",
    "\n",
    "# Create the directories if they do not exist\n",
    "for folder_name in folder_names:\n",
    "    folder_path = os.path.join(path, folder_name)\n",
    "    if not os.path.exists(folder_path):\n",
    "        print(f\"Creating folder: {folder_path}\")\n",
    "        os.makedirs(folder_path)\n",
    "\n",
    "# List all files in the directory\n",
    "files = [f for f in os.listdir(path) if os.path.isfile(os.path.join(path, f))]\n",
    "\n",
    "# Process each file based on its extension\n",
    "for file in files:\n",
    "    # Define the full path of the current file\n",
    "    file_path = os.path.join(path, file)\n",
    "\n",
    "    # Move PDF files\n",
    "    if file.lower().endswith(\".pdf\"):\n",
    "        shutil.move(file_path, os.path.join(path, \"pdf file\", file))\n",
    "    # Move JPG files\n",
    "    elif file.lower().endswith(\".jpg\"):\n",
    "        shutil.move(file_path, os.path.join(path, \"images file\", file))\n",
    "    # Move PNG files\n",
    "    elif file.lower().endswith(\".png\"):\n",
    "        shutil.move(file_path, os.path.join(path, \"images file\", file))\n",
    "    # Add more conditions as necessary for other file types\n",
    "    else:\n",
    "        print(f\"Unable to move: {file}\")\n"
   ]
  },
  {
   "cell_type": "code",
   "execution_count": null,
   "id": "c4dbd9fe",
   "metadata": {},
   "outputs": [],
   "source": []
  },
  {
   "cell_type": "code",
   "execution_count": null,
   "id": "2bf2898a",
   "metadata": {
    "scrolled": true
   },
   "outputs": [],
   "source": []
  },
  {
   "cell_type": "code",
   "execution_count": null,
   "id": "5cd9e7ce",
   "metadata": {},
   "outputs": [],
   "source": []
  },
  {
   "cell_type": "code",
   "execution_count": 55,
   "id": "0e37491d",
   "metadata": {},
   "outputs": [],
   "source": []
  },
  {
   "cell_type": "code",
   "execution_count": null,
   "id": "c36338bc",
   "metadata": {
    "scrolled": true
   },
   "outputs": [],
   "source": []
  },
  {
   "cell_type": "code",
   "execution_count": null,
   "id": "245020a0",
   "metadata": {},
   "outputs": [],
   "source": []
  },
  {
   "cell_type": "code",
   "execution_count": null,
   "id": "c43a97ef",
   "metadata": {},
   "outputs": [],
   "source": []
  },
  {
   "cell_type": "code",
   "execution_count": null,
   "id": "f19a2458",
   "metadata": {},
   "outputs": [],
   "source": []
  },
  {
   "cell_type": "code",
   "execution_count": null,
   "id": "9f1222b4",
   "metadata": {},
   "outputs": [],
   "source": []
  },
  {
   "cell_type": "code",
   "execution_count": null,
   "id": "8a768d2f",
   "metadata": {},
   "outputs": [],
   "source": []
  },
  {
   "cell_type": "code",
   "execution_count": null,
   "id": "d9b1177a",
   "metadata": {},
   "outputs": [],
   "source": []
  },
  {
   "cell_type": "code",
   "execution_count": null,
   "id": "3aea7d03",
   "metadata": {},
   "outputs": [],
   "source": []
  },
  {
   "cell_type": "code",
   "execution_count": null,
   "id": "15e0c653",
   "metadata": {},
   "outputs": [],
   "source": []
  },
  {
   "cell_type": "code",
   "execution_count": null,
   "id": "128c30e5",
   "metadata": {},
   "outputs": [],
   "source": []
  },
  {
   "cell_type": "code",
   "execution_count": null,
   "id": "eb61047d",
   "metadata": {},
   "outputs": [],
   "source": []
  },
  {
   "cell_type": "code",
   "execution_count": null,
   "id": "4da8c6eb",
   "metadata": {},
   "outputs": [],
   "source": []
  }
 ],
 "metadata": {
  "kernelspec": {
   "display_name": "Python 3 (ipykernel)",
   "language": "python",
   "name": "python3"
  },
  "language_info": {
   "codemirror_mode": {
    "name": "ipython",
    "version": 3
   },
   "file_extension": ".py",
   "mimetype": "text/x-python",
   "name": "python",
   "nbconvert_exporter": "python",
   "pygments_lexer": "ipython3",
   "version": "3.11.5"
  }
 },
 "nbformat": 4,
 "nbformat_minor": 5
}
